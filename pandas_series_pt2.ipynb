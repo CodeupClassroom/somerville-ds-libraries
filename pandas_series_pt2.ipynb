{
 "cells": [
  {
   "cell_type": "code",
   "execution_count": 1,
   "id": "1c758d3c",
   "metadata": {},
   "outputs": [
    {
     "data": {
      "application/javascript": [
       "IPython.notebook.set_autosave_interval(0)"
      ]
     },
     "metadata": {},
     "output_type": "display_data"
    },
    {
     "name": "stdout",
     "output_type": "stream",
     "text": [
      "Autosave disabled\n"
     ]
    }
   ],
   "source": [
    "%autosave 0"
   ]
  },
  {
   "cell_type": "code",
   "execution_count": 2,
   "id": "7c2a3997",
   "metadata": {},
   "outputs": [],
   "source": [
    "import pandas as pd\n",
    "from pydataset import data"
   ]
  },
  {
   "cell_type": "markdown",
   "id": "c7aa5545",
   "metadata": {},
   "source": [
    "Boolean masking -  \n",
    "We can use an array of boolean values to return a subset of our series.  \n",
    "We only get back values where the boolean array is True.  \n",
    "We can evaluate multiple statements at once."
   ]
  },
  {
   "cell_type": "code",
   "execution_count": 3,
   "id": "5d82415f",
   "metadata": {},
   "outputs": [],
   "source": [
    "my_series = pd.Series(range(1, 21, 1))"
   ]
  },
  {
   "cell_type": "code",
   "execution_count": 4,
   "id": "20d1cca7",
   "metadata": {},
   "outputs": [
    {
     "data": {
      "text/plain": [
       "10    11\n",
       "11    12\n",
       "12    13\n",
       "13    14\n",
       "14    15\n",
       "15    16\n",
       "16    17\n",
       "17    18\n",
       "18    19\n",
       "19    20\n",
       "dtype: int64"
      ]
     },
     "execution_count": 4,
     "metadata": {},
     "output_type": "execute_result"
    }
   ],
   "source": [
    "my_series[my_series > 10]"
   ]
  },
  {
   "cell_type": "code",
   "execution_count": 5,
   "id": "67483366",
   "metadata": {},
   "outputs": [
    {
     "data": {
      "text/plain": [
       "0      1\n",
       "2      3\n",
       "4      5\n",
       "6      7\n",
       "8      9\n",
       "10    11\n",
       "12    13\n",
       "14    15\n",
       "16    17\n",
       "18    19\n",
       "dtype: int64"
      ]
     },
     "execution_count": 5,
     "metadata": {},
     "output_type": "execute_result"
    }
   ],
   "source": [
    "my_series[my_series % 2 == 1]"
   ]
  },
  {
   "cell_type": "code",
   "execution_count": 6,
   "id": "0c07f547",
   "metadata": {},
   "outputs": [
    {
     "data": {
      "text/plain": [
       "0      1\n",
       "2      3\n",
       "4      5\n",
       "6      7\n",
       "8      9\n",
       "10    11\n",
       "11    12\n",
       "12    13\n",
       "13    14\n",
       "14    15\n",
       "15    16\n",
       "16    17\n",
       "17    18\n",
       "18    19\n",
       "19    20\n",
       "dtype: int64"
      ]
     },
     "execution_count": 6,
     "metadata": {},
     "output_type": "execute_result"
    }
   ],
   "source": [
    "my_series[(my_series > 10) | (my_series % 2 == 1)]"
   ]
  },
  {
   "cell_type": "markdown",
   "id": "2377d64e",
   "metadata": {},
   "source": [
    "The curriculum has a method for determining which values belong in the fourth quartile.  \n",
    "\n",
    "We could also do it with [pd.qcut](https://pandas.pydata.org/docs/reference/api/pandas.qcut.html#pandas.qcut).  \n",
    "\n",
    "We will pass two arguments: the pandas series, and the number of bins we want (4 for quartiles)."
   ]
  },
  {
   "cell_type": "code",
   "execution_count": 7,
   "id": "a778a9e9",
   "metadata": {},
   "outputs": [
    {
     "data": {
      "text/plain": [
       "0     q1\n",
       "1     q1\n",
       "2     q1\n",
       "3     q1\n",
       "4     q1\n",
       "5     q2\n",
       "6     q2\n",
       "7     q2\n",
       "8     q2\n",
       "9     q2\n",
       "10    q3\n",
       "11    q3\n",
       "12    q3\n",
       "13    q3\n",
       "14    q3\n",
       "15    q4\n",
       "16    q4\n",
       "17    q4\n",
       "18    q4\n",
       "19    q4\n",
       "dtype: category\n",
       "Categories (4, object): ['q1' < 'q2' < 'q3' < 'q4']"
      ]
     },
     "execution_count": 7,
     "metadata": {},
     "output_type": "execute_result"
    }
   ],
   "source": [
    "pd.qcut(my_series, 4, labels=['q1', 'q2', 'q3', 'q4'])"
   ]
  },
  {
   "cell_type": "markdown",
   "id": "dcd36002",
   "metadata": {},
   "source": [
    "String vectorization.\n",
    "\n",
    "We can perform string operations across all values in a series using the .str attribute."
   ]
  },
  {
   "cell_type": "code",
   "execution_count": 8,
   "id": "cc6bf2bb",
   "metadata": {},
   "outputs": [
    {
     "data": {
      "text/html": [
       "<div>\n",
       "<style scoped>\n",
       "    .dataframe tbody tr th:only-of-type {\n",
       "        vertical-align: middle;\n",
       "    }\n",
       "\n",
       "    .dataframe tbody tr th {\n",
       "        vertical-align: top;\n",
       "    }\n",
       "\n",
       "    .dataframe thead th {\n",
       "        text-align: right;\n",
       "    }\n",
       "</style>\n",
       "<table border=\"1\" class=\"dataframe\">\n",
       "  <thead>\n",
       "    <tr style=\"text-align: right;\">\n",
       "      <th></th>\n",
       "      <th>manufacturer</th>\n",
       "      <th>model</th>\n",
       "      <th>displ</th>\n",
       "      <th>year</th>\n",
       "      <th>cyl</th>\n",
       "      <th>trans</th>\n",
       "      <th>drv</th>\n",
       "      <th>cty</th>\n",
       "      <th>hwy</th>\n",
       "      <th>fl</th>\n",
       "      <th>class</th>\n",
       "    </tr>\n",
       "  </thead>\n",
       "  <tbody>\n",
       "    <tr>\n",
       "      <th>1</th>\n",
       "      <td>audi</td>\n",
       "      <td>a4</td>\n",
       "      <td>1.8</td>\n",
       "      <td>1999</td>\n",
       "      <td>4</td>\n",
       "      <td>auto(l5)</td>\n",
       "      <td>f</td>\n",
       "      <td>18</td>\n",
       "      <td>29</td>\n",
       "      <td>p</td>\n",
       "      <td>compact</td>\n",
       "    </tr>\n",
       "    <tr>\n",
       "      <th>2</th>\n",
       "      <td>audi</td>\n",
       "      <td>a4</td>\n",
       "      <td>1.8</td>\n",
       "      <td>1999</td>\n",
       "      <td>4</td>\n",
       "      <td>manual(m5)</td>\n",
       "      <td>f</td>\n",
       "      <td>21</td>\n",
       "      <td>29</td>\n",
       "      <td>p</td>\n",
       "      <td>compact</td>\n",
       "    </tr>\n",
       "    <tr>\n",
       "      <th>3</th>\n",
       "      <td>audi</td>\n",
       "      <td>a4</td>\n",
       "      <td>2.0</td>\n",
       "      <td>2008</td>\n",
       "      <td>4</td>\n",
       "      <td>manual(m6)</td>\n",
       "      <td>f</td>\n",
       "      <td>20</td>\n",
       "      <td>31</td>\n",
       "      <td>p</td>\n",
       "      <td>compact</td>\n",
       "    </tr>\n",
       "    <tr>\n",
       "      <th>4</th>\n",
       "      <td>audi</td>\n",
       "      <td>a4</td>\n",
       "      <td>2.0</td>\n",
       "      <td>2008</td>\n",
       "      <td>4</td>\n",
       "      <td>auto(av)</td>\n",
       "      <td>f</td>\n",
       "      <td>21</td>\n",
       "      <td>30</td>\n",
       "      <td>p</td>\n",
       "      <td>compact</td>\n",
       "    </tr>\n",
       "    <tr>\n",
       "      <th>5</th>\n",
       "      <td>audi</td>\n",
       "      <td>a4</td>\n",
       "      <td>2.8</td>\n",
       "      <td>1999</td>\n",
       "      <td>6</td>\n",
       "      <td>auto(l5)</td>\n",
       "      <td>f</td>\n",
       "      <td>16</td>\n",
       "      <td>26</td>\n",
       "      <td>p</td>\n",
       "      <td>compact</td>\n",
       "    </tr>\n",
       "  </tbody>\n",
       "</table>\n",
       "</div>"
      ],
      "text/plain": [
       "  manufacturer model  displ  year  cyl       trans drv  cty  hwy fl    class\n",
       "1         audi    a4    1.8  1999    4    auto(l5)   f   18   29  p  compact\n",
       "2         audi    a4    1.8  1999    4  manual(m5)   f   21   29  p  compact\n",
       "3         audi    a4    2.0  2008    4  manual(m6)   f   20   31  p  compact\n",
       "4         audi    a4    2.0  2008    4    auto(av)   f   21   30  p  compact\n",
       "5         audi    a4    2.8  1999    6    auto(l5)   f   16   26  p  compact"
      ]
     },
     "execution_count": 8,
     "metadata": {},
     "output_type": "execute_result"
    }
   ],
   "source": [
    "mpg = data('mpg')\n",
    "mpg.head()"
   ]
  },
  {
   "cell_type": "code",
   "execution_count": 9,
   "id": "074132fc",
   "metadata": {},
   "outputs": [],
   "source": [
    "mpg_t = mpg.trans"
   ]
  },
  {
   "cell_type": "code",
   "execution_count": 10,
   "id": "1411c027",
   "metadata": {},
   "outputs": [
    {
     "data": {
      "text/plain": [
       "1        AUTO(L5)\n",
       "2      MANUAL(M5)\n",
       "3      MANUAL(M6)\n",
       "4        AUTO(AV)\n",
       "5        AUTO(L5)\n",
       "          ...    \n",
       "230      AUTO(S6)\n",
       "231    MANUAL(M6)\n",
       "232      AUTO(L5)\n",
       "233    MANUAL(M5)\n",
       "234      AUTO(S6)\n",
       "Name: trans, Length: 234, dtype: object"
      ]
     },
     "execution_count": 10,
     "metadata": {},
     "output_type": "execute_result"
    }
   ],
   "source": [
    "mpg_t.str.upper()"
   ]
  },
  {
   "cell_type": "code",
   "execution_count": 11,
   "id": "edd115ca",
   "metadata": {},
   "outputs": [
    {
     "name": "stderr",
     "output_type": "stream",
     "text": [
      "/var/folders/2c/brd9b1hs75g3ntjrdq28jc140000gp/T/ipykernel_38474/2966449829.py:1: FutureWarning: The default value of regex will change from True to False in a future version. In addition, single character regular expressions will *not* be treated as literal strings when regex=True.\n",
      "  mpg_t.str.replace('(', '_').str.replace(')', '_')\n"
     ]
    },
    {
     "data": {
      "text/plain": [
       "1        auto_l5_\n",
       "2      manual_m5_\n",
       "3      manual_m6_\n",
       "4        auto_av_\n",
       "5        auto_l5_\n",
       "          ...    \n",
       "230      auto_s6_\n",
       "231    manual_m6_\n",
       "232      auto_l5_\n",
       "233    manual_m5_\n",
       "234      auto_s6_\n",
       "Name: trans, Length: 234, dtype: object"
      ]
     },
     "execution_count": 11,
     "metadata": {},
     "output_type": "execute_result"
    }
   ],
   "source": [
    "mpg_t.str.replace('(', '_').str.replace(')', '_')"
   ]
  },
  {
   "cell_type": "code",
   "execution_count": 12,
   "id": "33c1d26b",
   "metadata": {},
   "outputs": [
    {
     "data": {
      "text/plain": [
       "1      auto(l5)\n",
       "2    manual(m5)\n",
       "3    manual(m6)\n",
       "4      auto(av)\n",
       "5      auto(l5)\n",
       "Name: trans, dtype: object"
      ]
     },
     "execution_count": 12,
     "metadata": {},
     "output_type": "execute_result"
    }
   ],
   "source": [
    "mpg_t.head()"
   ]
  },
  {
   "cell_type": "markdown",
   "id": "d9c641f2",
   "metadata": {},
   "source": [
    "There are other methods available for use! Some common ones include..\n",
    "- .any() and .all()\n",
    "- .isin()\n",
    "- .apply()"
   ]
  },
  {
   "cell_type": "code",
   "execution_count": 13,
   "id": "c57be4a5",
   "metadata": {},
   "outputs": [
    {
     "data": {
      "text/plain": [
       "True"
      ]
     },
     "execution_count": 13,
     "metadata": {},
     "output_type": "execute_result"
    }
   ],
   "source": [
    "(mpg_t == 'auto(l5)').any()"
   ]
  },
  {
   "cell_type": "code",
   "execution_count": 14,
   "id": "21de9753",
   "metadata": {},
   "outputs": [
    {
     "data": {
      "text/plain": [
       "False"
      ]
     },
     "execution_count": 14,
     "metadata": {},
     "output_type": "execute_result"
    }
   ],
   "source": [
    "(mpg_t == 'auto(l5)').all()"
   ]
  },
  {
   "cell_type": "code",
   "execution_count": 15,
   "id": "74bbfd87",
   "metadata": {},
   "outputs": [
    {
     "data": {
      "text/plain": [
       "1       True\n",
       "2      False\n",
       "3      False\n",
       "4      False\n",
       "5       True\n",
       "       ...  \n",
       "230    False\n",
       "231    False\n",
       "232     True\n",
       "233    False\n",
       "234    False\n",
       "Name: trans, Length: 234, dtype: bool"
      ]
     },
     "execution_count": 15,
     "metadata": {},
     "output_type": "execute_result"
    }
   ],
   "source": [
    "mpg_t.isin(['auto(l5)'])"
   ]
  },
  {
   "cell_type": "code",
   "execution_count": 16,
   "id": "6bb4e363",
   "metadata": {},
   "outputs": [
    {
     "data": {
      "text/plain": [
       "0    1\n",
       "1    2\n",
       "2    3\n",
       "3    4\n",
       "4    5\n",
       "dtype: int64"
      ]
     },
     "execution_count": 16,
     "metadata": {},
     "output_type": "execute_result"
    }
   ],
   "source": [
    "my_series.head()"
   ]
  },
  {
   "cell_type": "code",
   "execution_count": 17,
   "id": "16e15c1f",
   "metadata": {},
   "outputs": [],
   "source": [
    "def mathinator(n):\n",
    "    \n",
    "    return n * 2 + 4 / 3"
   ]
  },
  {
   "cell_type": "code",
   "execution_count": 18,
   "id": "3a69db8b",
   "metadata": {},
   "outputs": [
    {
     "data": {
      "text/plain": [
       "0      3.333333\n",
       "1      5.333333\n",
       "2      7.333333\n",
       "3      9.333333\n",
       "4     11.333333\n",
       "5     13.333333\n",
       "6     15.333333\n",
       "7     17.333333\n",
       "8     19.333333\n",
       "9     21.333333\n",
       "10    23.333333\n",
       "11    25.333333\n",
       "12    27.333333\n",
       "13    29.333333\n",
       "14    31.333333\n",
       "15    33.333333\n",
       "16    35.333333\n",
       "17    37.333333\n",
       "18    39.333333\n",
       "19    41.333333\n",
       "dtype: float64"
      ]
     },
     "execution_count": 18,
     "metadata": {},
     "output_type": "execute_result"
    }
   ],
   "source": [
    "my_series.apply(mathinator)"
   ]
  },
  {
   "cell_type": "markdown",
   "id": "8158a685",
   "metadata": {},
   "source": [
    "We can bin values using pd.cut.\n",
    "\n",
    "We can specify the number of bins to create, to make n bins of equal size.\n",
    "\n",
    "We can also create the cutoffs for the bins ourselves."
   ]
  },
  {
   "cell_type": "code",
   "execution_count": 19,
   "id": "6e517c44",
   "metadata": {},
   "outputs": [
    {
     "data": {
      "text/plain": [
       "0             NaN\n",
       "1             NaN\n",
       "2             NaN\n",
       "3             NaN\n",
       "4      (4.0, 9.0]\n",
       "5      (4.0, 9.0]\n",
       "6      (4.0, 9.0]\n",
       "7      (4.0, 9.0]\n",
       "8      (4.0, 9.0]\n",
       "9     (9.0, 18.0]\n",
       "10    (9.0, 18.0]\n",
       "11    (9.0, 18.0]\n",
       "12    (9.0, 18.0]\n",
       "13    (9.0, 18.0]\n",
       "14    (9.0, 18.0]\n",
       "15    (9.0, 18.0]\n",
       "16    (9.0, 18.0]\n",
       "17    (9.0, 18.0]\n",
       "18            NaN\n",
       "19            NaN\n",
       "dtype: category\n",
       "Categories (2, interval[int64, right]): [(4, 9] < (9, 18]]"
      ]
     },
     "execution_count": 19,
     "metadata": {},
     "output_type": "execute_result"
    }
   ],
   "source": [
    "pd.cut(my_series, [4, 9, 18])"
   ]
  },
  {
   "cell_type": "markdown",
   "id": "502946dd",
   "metadata": {},
   "source": [
    "We can plot values from a series using the .plot() method.\n",
    "\n",
    "We can further alter the plot by calling .plot.hist(), for example.\n",
    "\n",
    "We can modify our plot by passing in arguments to the plotting method."
   ]
  },
  {
   "cell_type": "code",
   "execution_count": 20,
   "id": "addd442f",
   "metadata": {},
   "outputs": [
    {
     "data": {
      "text/plain": [
       "<AxesSubplot:>"
      ]
     },
     "execution_count": 20,
     "metadata": {},
     "output_type": "execute_result"
    },
    {
     "data": {
      "image/png": "[encoded data removed]",
      "text/plain": [
       "<Figure size 432x288 with 1 Axes>"
      ]
     },
     "metadata": {
      "needs_background": "light"
     },
     "output_type": "display_data"
    }
   ],
   "source": [
    "my_series.plot()"
   ]
  },
  {
   "cell_type": "code",
   "execution_count": 21,
   "id": "b3e854b0",
   "metadata": {},
   "outputs": [
    {
     "data": {
      "text/plain": [
       "<AxesSubplot:title={'center':'title test'}>"
      ]
     },
     "execution_count": 21,
     "metadata": {},
     "output_type": "execute_result"
    },
    {
     "data": {
      "image/png": "[encoded data removed]",
      "text/plain": [
       "<Figure size 432x288 with 1 Axes>"
      ]
     },
     "metadata": {
      "needs_background": "light"
     },
     "output_type": "display_data"
    }
   ],
   "source": [
    "mpg_t.str.startswith('a').value_counts().plot.barh(title='title test')"
   ]
  },
  {
   "cell_type": "code",
   "execution_count": null,
   "id": "8c1cffd0",
   "metadata": {},
   "outputs": [],
   "source": []
  }
 ],
 "metadata": {
  "kernelspec": {
   "display_name": "Python 3 (ipykernel)",
   "language": "python",
   "name": "python3"
  },
  "language_info": {
   "codemirror_mode": {
    "name": "ipython",
    "version": 3
   },
   "file_extension": ".py",
   "mimetype": "text/x-python",
   "name": "python",
   "nbconvert_exporter": "python",
   "pygments_lexer": "ipython3",
   "version": "3.9.12"
  }
 },
 "nbformat": 4,
 "nbformat_minor": 5
}
