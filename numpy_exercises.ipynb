{
 "cells": [
  {
   "cell_type": "markdown",
   "id": "3f0a2a2e",
   "metadata": {},
   "source": [
    "# Numpy Exercises"
   ]
  },
  {
   "cell_type": "markdown",
   "id": "d065a26f",
   "metadata": {},
   "source": [
    "<hr style=\"border:2px solid gray\">"
   ]
  },
  {
   "cell_type": "markdown",
   "id": "1e228287",
   "metadata": {},
   "source": [
    "Use the following code for the questions below:\n",
    "\n",
    "```a = np.array([4, 10, 12, 23, -2, -1, 0, 0, 0, -6, 3, -7])```\n",
    "\n",
    "1. How many negative numbers are there?\n",
    "\n",
    "2. How many positive numbers are there?\n",
    "\n",
    "3. How many even positive numbers are there?\n",
    "\n",
    "4. If you were to add 3 to each data point, how many positive numbers would there be?\n",
    "\n",
    "5. If you squared each number, what would the new mean and standard deviation be?\n",
    "\n",
    "6. A common statistical operation on a dataset is <b>centering</b>. This means to adjust the data such that the mean of the data is 0. This is done by subtracting the mean from each data point. Center the data set. See this link for more on centering.\n",
    "\n",
    "7. Calculate the z-score for each data point. Recall that the z-score is given by:\n",
    "\n",
    "     Z = (x − μ) / σ\n",
    "\n",
    "8. Copy the setup and exercise directions from More Numpy Practice into your numpy_exercises.py and add your solutions."
   ]
  },
  {
   "cell_type": "markdown",
   "id": "c62af670",
   "metadata": {},
   "source": [
    "<hr style=\"border:1px solid black\">\n",
    "<hr style=\"border:1px solid black\">"
   ]
  },
  {
   "cell_type": "code",
   "execution_count": 2,
   "id": "6fa9c036",
   "metadata": {},
   "outputs": [],
   "source": [
    "import numpy as np\n",
    "a = np.array([4, 10, 12, 23, -2, -1, 0, 0, 0, -6, 3, -7])"
   ]
  },
  {
   "cell_type": "markdown",
   "id": "d67ad614",
   "metadata": {},
   "source": [
    "<b>#1. How many negative numbers are there?</b>\n",
    "- <b>Answer</b>:"
   ]
  },
  {
   "cell_type": "code",
   "execution_count": 3,
   "id": "6966fe6c",
   "metadata": {},
   "outputs": [
    {
     "data": {
      "text/plain": [
       "4"
      ]
     },
     "execution_count": 3,
     "metadata": {},
     "output_type": "execute_result"
    }
   ],
   "source": [
    "len(a[a < 0])"
   ]
  },
  {
   "cell_type": "markdown",
   "id": "eec7bf2d",
   "metadata": {},
   "source": [
    "<hr style=\"border:0.5px solid grey\">"
   ]
  },
  {
   "cell_type": "markdown",
   "id": "579a4c86",
   "metadata": {},
   "source": [
    "<b>#2. How many positive numbers are there?</b>\n",
    "- <b>Answer</b>:"
   ]
  },
  {
   "cell_type": "code",
   "execution_count": 4,
   "id": "ba39b511",
   "metadata": {},
   "outputs": [
    {
     "data": {
      "text/plain": [
       "5"
      ]
     },
     "execution_count": 4,
     "metadata": {},
     "output_type": "execute_result"
    }
   ],
   "source": [
    "len(a[a > 0])"
   ]
  },
  {
   "cell_type": "markdown",
   "id": "8fe1a2cb",
   "metadata": {},
   "source": [
    "<hr style=\"border:0.5px solid grey\">"
   ]
  },
  {
   "cell_type": "markdown",
   "id": "ecd97c3d",
   "metadata": {},
   "source": [
    "<b>#3. How many even positive numbers are there?</b>\n",
    "- <b>Answer</b>:"
   ]
  },
  {
   "cell_type": "code",
   "execution_count": 10,
   "id": "f731fa32",
   "metadata": {},
   "outputs": [
    {
     "data": {
      "text/plain": [
       "3"
      ]
     },
     "execution_count": 10,
     "metadata": {},
     "output_type": "execute_result"
    }
   ],
   "source": [
    "len(a[(a > 0) & (a % 2 == 0)])"
   ]
  },
  {
   "cell_type": "markdown",
   "id": "a8f60e06",
   "metadata": {},
   "source": [
    "<hr style=\"border:0.5px solid grey\">"
   ]
  },
  {
   "cell_type": "markdown",
   "id": "637a59ab",
   "metadata": {},
   "source": [
    "<b>#4. If you were to add 3 to each data point, how many positive numbers would there be?</b>\n",
    "- <b>Answer</b>:"
   ]
  },
  {
   "cell_type": "code",
   "execution_count": 11,
   "id": "b0465c2a",
   "metadata": {},
   "outputs": [
    {
     "data": {
      "text/plain": [
       "10"
      ]
     },
     "execution_count": 11,
     "metadata": {},
     "output_type": "execute_result"
    }
   ],
   "source": [
    "len(a[(a+3) > 0])"
   ]
  },
  {
   "cell_type": "markdown",
   "id": "ca89e85c",
   "metadata": {},
   "source": [
    "<hr style=\"border:0.5px solid grey\">"
   ]
  },
  {
   "cell_type": "markdown",
   "id": "cb99d7cb",
   "metadata": {},
   "source": [
    "<b>#5. If you squared each number, what would the new mean and standard deviation be?</b>\n",
    "- <b>Answers</b>:\n",
    "    - Mean: 74\n",
    "    - Standard Deviation: 114.0243 ..."
   ]
  },
  {
   "cell_type": "code",
   "execution_count": 12,
   "id": "d7795877",
   "metadata": {},
   "outputs": [
    {
     "data": {
      "text/plain": [
       "74.0"
      ]
     },
     "execution_count": 12,
     "metadata": {},
     "output_type": "execute_result"
    }
   ],
   "source": [
    "(a ** 2).mean()"
   ]
  },
  {
   "cell_type": "code",
   "execution_count": 13,
   "id": "c0ead2f9",
   "metadata": {},
   "outputs": [
    {
     "data": {
      "text/plain": [
       "144.0243035046516"
      ]
     },
     "execution_count": 13,
     "metadata": {},
     "output_type": "execute_result"
    }
   ],
   "source": [
    "(a ** 2).std()"
   ]
  },
  {
   "cell_type": "markdown",
   "id": "bca61c82",
   "metadata": {},
   "source": [
    "<hr style=\"border:0.5px solid grey\">"
   ]
  },
  {
   "cell_type": "markdown",
   "id": "137fd02e",
   "metadata": {},
   "source": [
    "<b>#6. A common statistical operation on a dataset is <b>centering</b>. This means to adjust the data such that the mean of the data is 0. This is done by subtracting the mean from each data point. Center the data set. See this link for more on centering."
   ]
  },
  {
   "cell_type": "code",
   "execution_count": 15,
   "id": "75dc5cb6",
   "metadata": {},
   "outputs": [
    {
     "data": {
      "text/plain": [
       "0.0"
      ]
     },
     "execution_count": 15,
     "metadata": {},
     "output_type": "execute_result"
    }
   ],
   "source": [
    "a_cenetered = a - a.mean()\n",
    "a_cenetered.mean()"
   ]
  },
  {
   "cell_type": "markdown",
   "id": "108f28f5",
   "metadata": {},
   "source": [
    "<hr style=\"border:0.5px solid grey\">"
   ]
  },
  {
   "cell_type": "markdown",
   "id": "1a1906a5",
   "metadata": {},
   "source": [
    "<b>#7. Calculate the z-score for each data point. Recall that the z-score is given by:\n",
    "\n",
    "     Z = (x − μ) / σ"
   ]
  },
  {
   "cell_type": "code",
   "execution_count": null,
   "id": "72368e0e",
   "metadata": {},
   "outputs": [],
   "source": [
    "#equation for the z-score\n",
    "(a -a.mean())/a.std()"
   ]
  },
  {
   "cell_type": "code",
   "execution_count": 16,
   "id": "3b08e554",
   "metadata": {},
   "outputs": [
    {
     "data": {
      "text/plain": [
       "array([ 0.12403473,  0.86824314,  1.11631261,  2.48069469, -0.62017367,\n",
       "       -0.49613894, -0.3721042 , -0.3721042 , -0.3721042 , -1.11631261,\n",
       "        0.        , -1.24034735])"
      ]
     },
     "execution_count": 16,
     "metadata": {},
     "output_type": "execute_result"
    }
   ],
   "source": [
    "a_cenetered/a.std()"
   ]
  },
  {
   "cell_type": "markdown",
   "id": "4a5c7114",
   "metadata": {},
   "source": [
    "<hr style=\"border:0.5px solid grey\">"
   ]
  },
  {
   "cell_type": "markdown",
   "id": "712c9c78",
   "metadata": {},
   "source": [
    "<b>#8. Copy the setup and exercise directions from More Numpy Practice into your numpy_exercises.py and add your solutions."
   ]
  },
  {
   "cell_type": "code",
   "execution_count": null,
   "id": "e05973a5",
   "metadata": {},
   "outputs": [],
   "source": []
  }
 ],
 "metadata": {
  "kernelspec": {
   "display_name": "Python 3 (ipykernel)",
   "language": "python",
   "name": "python3"
  },
  "language_info": {
   "codemirror_mode": {
    "name": "ipython",
    "version": 3
   },
   "file_extension": ".py",
   "mimetype": "text/x-python",
   "name": "python",
   "nbconvert_exporter": "python",
   "pygments_lexer": "ipython3",
   "version": "3.10.9"
  }
 },
 "nbformat": 4,
 "nbformat_minor": 5
}
